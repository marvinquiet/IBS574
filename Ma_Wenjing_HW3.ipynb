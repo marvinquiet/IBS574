{
 "cells": [
  {
   "cell_type": "markdown",
   "metadata": {},
   "source": [
    "# IBS 574 Python Homework 3"
   ]
  },
  {
   "cell_type": "markdown",
   "metadata": {},
   "source": [
    "#### Add your name and the date your notebook was last updated"
   ]
  },
  {
   "cell_type": "code",
   "execution_count": 1,
   "metadata": {},
   "outputs": [
    {
     "name": "stdout",
     "output_type": "stream",
     "text": [
      "Wenjing Ma \n",
      "last updated: 2020-02-13 14:06:12 EST\n"
     ]
    }
   ],
   "source": [
    "%reload_ext watermark\n",
    "%watermark -a \"Wenjing Ma\" -d -u -n -t -z"
   ]
  },
  {
   "cell_type": "markdown",
   "metadata": {},
   "source": [
    "#### Load libraries"
   ]
  },
  {
   "cell_type": "code",
   "execution_count": 2,
   "metadata": {},
   "outputs": [],
   "source": [
    "import pandas as pd\n",
    "import numpy as np\n",
    "from sinfo import sinfo\n",
    "from sklearn.decomposition import PCA\n",
    "from sklearn import preprocessing\n",
    "from sklearn.preprocessing import StandardScaler\n",
    "import seaborn as sns\n",
    "import random"
   ]
  },
  {
   "cell_type": "markdown",
   "metadata": {},
   "source": [
    "#### Load data\n",
    "note: include test for this chunk from previous homework"
   ]
  },
  {
   "cell_type": "code",
   "execution_count": 3,
   "metadata": {},
   "outputs": [
    {
     "data": {
      "text/plain": [
       "True"
      ]
     },
     "execution_count": 3,
     "metadata": {},
     "output_type": "execute_result"
    }
   ],
   "source": [
    "countdata = \"https://raw.githubusercontent.com/jessmrandall/IBS574Spring2020/master/data/countdata.csv\"\n",
    "counts = pd.read_csv(countdata, index_col=0, sep='\\t')\n",
    "len(counts) == 14944\n",
    "# counts.head()"
   ]
  },
  {
   "cell_type": "markdown",
   "metadata": {},
   "source": [
    "#### Prepare data for PCA Analysis"
   ]
  },
  {
   "cell_type": "code",
   "execution_count": 4,
   "metadata": {},
   "outputs": [],
   "source": [
    "counts_transpose = counts.T\n",
    "group = ['Control']*7\n",
    "group.extend(['Case']*7)\n",
    "counts_transpose['group'] = group\n",
    "\n",
    "features = pd.Series(counts_transpose.columns)[0:14944]\n",
    "feature_arr = counts_transpose.loc[:, features].values # get genes\n",
    "target_arr = counts_transpose.loc[:, ['group']].values # get group, not used for standardization\n",
    "\n",
    "# stardardize to compare the features\n",
    "fitted_features = StandardScaler().fit_transform(feature_arr)"
   ]
  },
  {
   "cell_type": "markdown",
   "metadata": {},
   "source": [
    "#### Determine Principal Components\n",
    "note: include test for this chunk from previous homework"
   ]
  },
  {
   "cell_type": "code",
   "execution_count": 5,
   "metadata": {},
   "outputs": [],
   "source": [
    "random_seed = 20202\n",
    "random.seed(random_seed)\n",
    "\n",
    "pca = PCA(n_components=2, random_state=random_seed)\n",
    "pcs = pca.fit_transform(fitted_features)\n",
    "# print(pca.explained_variance_ratio_)\n",
    "pdf = pd.DataFrame(data=pcs, columns=['PC1', 'PC2'])\n",
    "pdf.index = counts_transpose.index\n",
    "target_df = counts_transpose[['group']]\n",
    "new_df = pd.concat([pdf, target_df], axis=1)"
   ]
  },
  {
   "cell_type": "markdown",
   "metadata": {},
   "source": [
    "#### Graph the principal components by sample group"
   ]
  },
  {
   "cell_type": "code",
   "execution_count": 6,
   "metadata": {},
   "outputs": [
    {
     "data": {
      "text/plain": [
       "<seaborn.axisgrid.FacetGrid at 0x10ec07040>"
      ]
     },
     "execution_count": 6,
     "metadata": {},
     "output_type": "execute_result"
    },
    {
     "data": {
      "image/png": "[encoded data removed]",
      "text/plain": [
       "<Figure size 487.86x360 with 1 Axes>"
      ]
     },
     "metadata": {
      "needs_background": "light"
     },
     "output_type": "display_data"
    }
   ],
   "source": [
    "sns.set_context(\"poster\", font_scale=0.8)\n",
    "g = sns.lmplot(data=new_df, \n",
    "           x='PC1', y='PC2',\n",
    "          fit_reg=False,\n",
    "          hue='group',\n",
    "          legend=True,\n",
    "          scatter_kws={\"s\":80})\n",
    "\n",
    "g.set_axis_labels(\"PC1 (\"+str(round(pca.explained_variance_ratio_[0]*100,3))+\"% variance)\",\n",
    "                 \"PC2 (\"+str(round(pca.explained_variance_ratio_[1]*100,3))+\"% variance)\")\n",
    "\n",
    "g.set(title=\"PCA plot for Control vs Case\")"
   ]
  },
  {
   "cell_type": "markdown",
   "metadata": {},
   "source": [
    "#### Interpret the graph for your principal investigator using explained variance"
   ]
  },
  {
   "cell_type": "code",
   "execution_count": 7,
   "metadata": {},
   "outputs": [
    {
     "data": {
      "text/plain": [
       "array([0.39218002, 0.36808828])"
      ]
     },
     "execution_count": 7,
     "metadata": {},
     "output_type": "execute_result"
    }
   ],
   "source": [
    "pca.explained_variance_ratio_"
   ]
  },
  {
   "cell_type": "markdown",
   "metadata": {},
   "source": [
    "Aproximately 39.2 % of the variability between these sample groups is explained by a sample being either a case or a control. Approximately 36.8 % can be attributed to another variable unaccounted for in the experimental design."
   ]
  },
  {
   "cell_type": "markdown",
   "metadata": {},
   "source": [
    "#### Report Session Information\n"
   ]
  },
  {
   "cell_type": "code",
   "execution_count": 8,
   "metadata": {},
   "outputs": [
    {
     "name": "stdout",
     "output_type": "stream",
     "text": [
      "-----\n",
      "numpy       1.18.1\n",
      "pandas      0.25.3\n",
      "seaborn     0.10.0\n",
      "sinfo       0.3.1\n",
      "sklearn     0.22.1\n",
      "-----\n",
      "IPython             7.11.1\n",
      "jupyter_client      5.3.4\n",
      "jupyter_core        4.6.1\n",
      "notebook            6.0.3\n",
      "-----\n",
      "Python 3.8.1 (default, Jan  8 2020, 16:15:59) [Clang 4.0.1 (tags/RELEASE_401/final)]\n",
      "macOS-10.15.2-x86_64-i386-64bit\n",
      "4 logical CPU cores, i386\n",
      "-----\n",
      "Session information updated at 2020-02-13 14:06\n"
     ]
    }
   ],
   "source": [
    "sinfo()"
   ]
  },
  {
   "cell_type": "code",
   "execution_count": null,
   "metadata": {},
   "outputs": [],
   "source": []
  }
 ],
 "metadata": {
  "kernelspec": {
   "display_name": "Python 3",
   "language": "python",
   "name": "python3"
  },
  "language_info": {
   "codemirror_mode": {
    "name": "ipython",
    "version": 3
   },
   "file_extension": ".py",
   "mimetype": "text/x-python",
   "name": "python",
   "nbconvert_exporter": "python",
   "pygments_lexer": "ipython3",
   "version": "3.8.1"
  }
 },
 "nbformat": 4,
 "nbformat_minor": 2
}
