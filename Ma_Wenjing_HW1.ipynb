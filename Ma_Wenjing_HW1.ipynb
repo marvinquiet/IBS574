{
 "cells": [
  {
   "cell_type": "markdown",
   "metadata": {},
   "source": [
    "# Jessica Randall IBS 574 Python Homework 1\n"
   ]
  },
  {
   "cell_type": "markdown",
   "metadata": {},
   "source": [
    "#### Add your name and the date your notebook was last updated"
   ]
  },
  {
   "cell_type": "code",
   "execution_count": 1,
   "metadata": {},
   "outputs": [
    {
     "name": "stdout",
     "output_type": "stream",
     "text": [
      "Wenjing Ma 2020-02-04\n"
     ]
    }
   ],
   "source": [
    "%load_ext watermark\n",
    "%watermark -a \"Wenjing Ma\" -d"
   ]
  },
  {
   "cell_type": "markdown",
   "metadata": {},
   "source": [
    "#### Load libraries"
   ]
  },
  {
   "cell_type": "code",
   "execution_count": 2,
   "metadata": {},
   "outputs": [],
   "source": [
    "import watermark\n",
    "import pandas as pd\n",
    "import numpy as np\n",
    "import sinfo"
   ]
  },
  {
   "cell_type": "markdown",
   "metadata": {},
   "source": [
    "#### Load data\n",
    "Hint: data are available here \"https://raw.githubusercontent.com/jessmrandall/IBS574Fall2020/master/countdata.csv\""
   ]
  },
  {
   "cell_type": "code",
   "execution_count": 18,
   "metadata": {},
   "outputs": [],
   "source": [
    "count_data = \"https://raw.githubusercontent.com/jessmrandall/IBS574Spring2020/master/data/countdata.csv\"\n",
    "df = pd.read_csv(count_data, sep='\\t', header=0)"
   ]
  },
  {
   "cell_type": "markdown",
   "metadata": {},
   "source": [
    "#### Test data were loaded correctly"
   ]
  },
  {
   "cell_type": "code",
   "execution_count": 19,
   "metadata": {},
   "outputs": [
    {
     "name": "stdout",
     "output_type": "stream",
     "text": [
      "        id    T02    T04    T06   T08   T10   T12   T14   T01   T03   T05  \\\n",
      "0     Aaas   4341   4052   3762  3473  2894  3193  3706  2574  2760  2512   \n",
      "1     Aacs  11693  10913  10134  9354  7795  6784  8448  6011  4736  5480   \n",
      "2    Aadac      0      0      0     0     0     0     0     0     0     2   \n",
      "3  Aadacl2      0      0      0     0     0     0     0     0     0     0   \n",
      "4  Aadacl3      0      0      0     0     0     0     0     0     0     0   \n",
      "5    Aadat      0      0      0     0     0     0     0     0     0     0   \n",
      "\n",
      "    T07   T09   T11   T13  \n",
      "0  3014  3266  3517  3768  \n",
      "1  6576  7124  7672  8220  \n",
      "2     2     3     3     3  \n",
      "3     0     0     0     0  \n",
      "4     0     0     0     0  \n",
      "5     0     0     0     0  \n",
      "True\n",
      "True\n"
     ]
    }
   ],
   "source": [
    "print(df.head(n=6))\n",
    "print(df.iloc[0]['id'] == 'Aaas')\n",
    "print(df.shape == (14944, 15))"
   ]
  },
  {
   "cell_type": "markdown",
   "metadata": {},
   "source": [
    "#### Report Session Information\n"
   ]
  },
  {
   "cell_type": "code",
   "execution_count": 20,
   "metadata": {},
   "outputs": [
    {
     "name": "stdout",
     "output_type": "stream",
     "text": [
      "-----\n",
      "numpy       1.18.1\n",
      "pandas      0.25.3\n",
      "sinfo       0.3.1\n",
      "watermark   2.0.2\n",
      "-----\n",
      "IPython             7.11.1\n",
      "jupyter_client      5.3.4\n",
      "jupyter_core        4.6.1\n",
      "notebook            6.0.3\n",
      "-----\n",
      "Python 3.8.1 (default, Jan  8 2020, 16:15:59) [Clang 4.0.1 (tags/RELEASE_401/final)]\n",
      "macOS-10.15.2-x86_64-i386-64bit\n",
      "4 logical CPU cores, i386\n",
      "-----\n",
      "Session information updated at 2020-02-04 14:08\n"
     ]
    }
   ],
   "source": [
    "sinfo.sinfo()"
   ]
  },
  {
   "cell_type": "code",
   "execution_count": null,
   "metadata": {},
   "outputs": [],
   "source": []
  }
 ],
 "metadata": {
  "kernelspec": {
   "display_name": "Python 3",
   "language": "python",
   "name": "python3"
  },
  "language_info": {
   "codemirror_mode": {
    "name": "ipython",
    "version": 3
   },
   "file_extension": ".py",
   "mimetype": "text/x-python",
   "name": "python",
   "nbconvert_exporter": "python",
   "pygments_lexer": "ipython3",
   "version": "3.8.1"
  }
 },
 "nbformat": 4,
 "nbformat_minor": 2
}
